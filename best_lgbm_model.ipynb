{
 "cells": [
  {
   "cell_type": "markdown",
   "id": "927938be-2978-4de9-99e9-1c2e4bfeebea",
   "metadata": {},
   "source": [
    "# Модель машинного обучения соревнования на kaggle при помощи lgbm\n",
    "Regression with an Abalone Dataset\n",
    "## Цели\n",
    "- подбор параметров"
   ]
  },
  {
   "cell_type": "code",
   "execution_count": 1,
   "id": "72ecc9c7-806a-4b87-90db-25607bbe4232",
   "metadata": {},
   "outputs": [],
   "source": [
    "import pandas as pd\n",
    "import optuna\n",
    "\n",
    "from lightgbm import LGBMRegressor\n",
    "from sklearn.model_selection import train_test_split\n",
    "from sklearn.metrics import mean_squared_log_error"
   ]
  },
  {
   "cell_type": "code",
   "execution_count": 2,
   "id": "beeadbfb-651b-4fea-9613-8c9d6b70e917",
   "metadata": {},
   "outputs": [],
   "source": [
    "# загрузка даных\n",
    "df = pd.read_csv('data/train.csv')\n",
    "df_pred = pd.read_csv('data/test.csv')\n",
    "\n",
    "df_abalone = pd.read_csv('data/abalone.csv')"
   ]
  },
  {
   "cell_type": "markdown",
   "id": "a5206c6f-342c-47b1-a677-af2af5329548",
   "metadata": {},
   "source": [
    "## Подготовка данных"
   ]
  },
  {
   "cell_type": "code",
   "execution_count": 3,
   "id": "5c9e93c6-23aa-4957-abe1-ab8df161d42e",
   "metadata": {},
   "outputs": [],
   "source": [
    "# привожу название признаков к единому виду\n",
    "df_abalone.rename(columns={'Shucked weight': 'Whole weight.1',\n",
    "                           'Viscera weight': 'Whole weight.2'}, inplace=True)"
   ]
  },
  {
   "cell_type": "code",
   "execution_count": 4,
   "id": "138cde36-4309-4c46-b2e7-70a07b9a263b",
   "metadata": {},
   "outputs": [],
   "source": [
    "# удаляю id\n",
    "df.drop(columns='id', inplace=True)\n",
    "df_pred.drop(columns='id', inplace=True)"
   ]
  },
  {
   "cell_type": "code",
   "execution_count": 5,
   "id": "7caddaac-8ade-41f4-b5f9-dcb81f0dd9f4",
   "metadata": {},
   "outputs": [],
   "source": [
    "# привожу признак Sex к категориальному типу\n",
    "df['Sex'] = df['Sex'].astype('category')\n",
    "df_pred['Sex'] = df_pred['Sex'].astype('category')\n",
    "df_abalone['Sex'] = df_abalone['Sex'].astype('category')"
   ]
  },
  {
   "cell_type": "code",
   "execution_count": 6,
   "id": "b3e3fbbc-14d8-423c-907a-4d3b1b9088a6",
   "metadata": {},
   "outputs": [],
   "source": [
    "df_all = pd.concat([df, df_abalone], ignore_index=True)"
   ]
  },
  {
   "cell_type": "code",
   "execution_count": 7,
   "id": "ad62c56b-b188-4106-8577-baf22b05c08c",
   "metadata": {},
   "outputs": [],
   "source": [
    "# убераю пробелы в названиях столбцов\n",
    "df_all.rename(columns={'Whole weight.1': 'Whole_weight.1',\n",
    "                       'Whole weight.2': 'Whole_weight.2',\n",
    "                       'Whole weight': 'Whole_weight',\n",
    "                       'Shell weight': 'Shell_weight'}, inplace=True)"
   ]
  },
  {
   "cell_type": "markdown",
   "id": "eed19ad1-1e95-4f39-b851-f347c1326fa0",
   "metadata": {},
   "source": [
    "## Поиск гиперпараметров"
   ]
  },
  {
   "cell_type": "code",
   "execution_count": 8,
   "id": "e184c3fa-ffd3-41ee-878a-c3faaa8dd97b",
   "metadata": {},
   "outputs": [],
   "source": [
    "X = df_all.drop(columns='Rings')\n",
    "y = df_all['Rings']\n",
    "\n",
    "X_train, X_test, y_train, y_test = train_test_split(X, y, test_size=0.25, random_state=42)"
   ]
  },
  {
   "cell_type": "code",
   "execution_count": 9,
   "id": "776d2fd4-b622-457f-b2f6-b2bf9aa1f186",
   "metadata": {},
   "outputs": [],
   "source": [
    "# def objective(trial: optuna.Trial):\n",
    "#     '''\n",
    "#     Обычная сигнатура функции оптимизации для optuna.\n",
    "#     '''\n",
    "#     param = {\n",
    "#             \"metric\": \"'MSLE'\",\n",
    "#             \"verbosity\": -1,\n",
    "#             \"boosting_type\": \"gbdt\",\n",
    "#             \"random_state\": 42,\n",
    "#             \"learning_rate\": trial.suggest_float(\"learning_rate\", 0.01, 0.1, log=True),\n",
    "#             \"n_estimators\": trial.suggest_int(\"n_estimators\", 100, 1000),\n",
    "#             'lambda_l1': trial.suggest_float('lambda_l1', 1e-8, 10.0, log=True),\n",
    "#             'lambda_l2': trial.suggest_float('lambda_l2', 1e-8, 10.0, log=True),\n",
    "#             \"max_depth\": trial.suggest_int(\"max_depth\", 5, 25),\n",
    "# #            \"colsample_bytree\": trial.suggest_float(\"colsample_bytree\", 0.3, 0.9),\n",
    "# #            \"subsample\": trial.suggest_float(\"subsample\", 0.8, 1.0),\n",
    "#             \"min_child_samples\": trial.suggest_int(\"min_child_samples\", 5, 50),\n",
    "#             'feature_fraction': trial.suggest_float('feature_fraction', 0.4, 1.0),\n",
    "#             'bagging_fraction': trial.suggest_float('bagging_fraction', 0.4, 1.0)}\n",
    "    \n",
    "#     lgbm_model = LGBMRegressor(**param)\n",
    "#     lgbm_model.fit(X_train, y_train, eval_set=(X_test, y_test))\n",
    "#     y_pred = lgbm_model.predict(X_test)\n",
    "#     return mean_squared_log_error(y_test, y_pred)\n",
    "\n",
    "# study = optuna.create_study(direction='minimize')\n",
    "# study.optimize(objective, n_trials=300)"
   ]
  },
  {
   "cell_type": "code",
   "execution_count": 10,
   "id": "6430a173-bf4f-4be2-965e-9ed9c1316c03",
   "metadata": {},
   "outputs": [],
   "source": [
    "best_params = {\"metric\": \"'MSLE'\",\n",
    "               \"verbosity\": -1,\n",
    "               \"boosting_type\": \"gbdt\",\n",
    "               \"random_state\": 42,\n",
    "               'learning_rate': 0.06276250716970622,\n",
    "               'n_estimators': 882,\n",
    "               'lambda_l1': 9.350836598168922e-06,\n",
    "               'lambda_l2': 0.8938597940442873,\n",
    "               'max_depth': 6,\n",
    "               'min_child_samples': 42,\n",
    "               'feature_fraction': 0.6175720776491681,\n",
    "               'bagging_fraction': 0.6778611980758826}"
   ]
  },
  {
   "cell_type": "markdown",
   "id": "587e5b6e-26de-4521-b9c2-25ace90e63a3",
   "metadata": {},
   "source": [
    "## Модель\n",
    "- kaggle public Score: 0.14785"
   ]
  },
  {
   "cell_type": "code",
   "execution_count": 11,
   "id": "d911563f-931e-4c76-9ddd-54805f136133",
   "metadata": {},
   "outputs": [
    {
     "data": {
      "text/plain": [
       "0.022142334111083718"
      ]
     },
     "execution_count": 11,
     "metadata": {},
     "output_type": "execute_result"
    }
   ],
   "source": [
    "lgbm_model = LGBMRegressor(**best_params)\n",
    "lgbm_model.fit(X_train, y_train, eval_set=(X_test, y_test))\n",
    "y_pred = lgbm_model.predict(X_test)\n",
    "rmsle = mean_squared_log_error(y_test, y_pred)\n",
    "pred = lgbm_model.predict(df_pred)\n",
    "rmsle"
   ]
  },
  {
   "cell_type": "code",
   "execution_count": 12,
   "id": "0a2c7f59-76d4-48e5-86e3-2210f0f96a30",
   "metadata": {},
   "outputs": [],
   "source": [
    "df_pred_duble = pd.read_csv('data/test.csv')\n",
    "df_pred_Id = df_pred_duble['id']\n",
    "\n",
    "output = pd.DataFrame({'id': df_pred_Id, 'Rings': pred})\n",
    "output.to_csv('data/lgbm_model.csv', index=False)"
   ]
  },
  {
   "cell_type": "code",
   "execution_count": null,
   "id": "786bf541-d6de-4186-9621-140972a648b5",
   "metadata": {},
   "outputs": [],
   "source": []
  }
 ],
 "metadata": {
  "kernelspec": {
   "display_name": "Python 3 (ipykernel)",
   "language": "python",
   "name": "python3"
  },
  "language_info": {
   "codemirror_mode": {
    "name": "ipython",
    "version": 3
   },
   "file_extension": ".py",
   "mimetype": "text/x-python",
   "name": "python",
   "nbconvert_exporter": "python",
   "pygments_lexer": "ipython3",
   "version": "3.10.11"
  }
 },
 "nbformat": 4,
 "nbformat_minor": 5
}
