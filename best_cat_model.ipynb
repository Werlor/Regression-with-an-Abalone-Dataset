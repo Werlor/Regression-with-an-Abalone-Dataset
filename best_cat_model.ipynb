{
 "cells": [
  {
   "cell_type": "markdown",
   "id": "927938be-2978-4de9-99e9-1c2e4bfeebea",
   "metadata": {},
   "source": [
    "# Модель машинного обучения соревнования на kaggle при помощи catboost\n",
    "Regression with an Abalone Dataset\n",
    "## Цели\n",
    "- подбор параметров"
   ]
  },
  {
   "cell_type": "code",
   "execution_count": 1,
   "id": "72ecc9c7-806a-4b87-90db-25607bbe4232",
   "metadata": {},
   "outputs": [],
   "source": [
    "import pandas as pd\n",
    "import optuna\n",
    "\n",
    "from catboost import CatBoostRegressor\n",
    "from sklearn.model_selection import train_test_split\n",
    "from sklearn.metrics import mean_squared_log_error"
   ]
  },
  {
   "cell_type": "code",
   "execution_count": 2,
   "id": "beeadbfb-651b-4fea-9613-8c9d6b70e917",
   "metadata": {},
   "outputs": [],
   "source": [
    "# загрузка даных\n",
    "df = pd.read_csv('data/train.csv')\n",
    "df_pred = pd.read_csv('data/test.csv')\n",
    "\n",
    "df_abalone = pd.read_csv('data/abalone.csv')"
   ]
  },
  {
   "cell_type": "markdown",
   "id": "a5206c6f-342c-47b1-a677-af2af5329548",
   "metadata": {},
   "source": [
    "## Подготовка данных"
   ]
  },
  {
   "cell_type": "code",
   "execution_count": 3,
   "id": "5c9e93c6-23aa-4957-abe1-ab8df161d42e",
   "metadata": {},
   "outputs": [],
   "source": [
    "# привожу название признаков к единому виду\n",
    "df_abalone.rename(columns={'Shucked weight': 'Whole weight.1',\n",
    "                           'Viscera weight': 'Whole weight.2'}, inplace=True)"
   ]
  },
  {
   "cell_type": "code",
   "execution_count": 4,
   "id": "138cde36-4309-4c46-b2e7-70a07b9a263b",
   "metadata": {},
   "outputs": [],
   "source": [
    "# удаляю id\n",
    "df.drop(columns='id', inplace=True)\n",
    "df_pred.drop(columns='id', inplace=True)"
   ]
  },
  {
   "cell_type": "code",
   "execution_count": 5,
   "id": "7caddaac-8ade-41f4-b5f9-dcb81f0dd9f4",
   "metadata": {},
   "outputs": [],
   "source": [
    "# привожу признак Sex к категориальному типу\n",
    "df['Sex'] = df['Sex'].astype('category')\n",
    "df_pred['Sex'] = df_pred['Sex'].astype('category')\n",
    "df_abalone['Sex'] = df_abalone['Sex'].astype('category')"
   ]
  },
  {
   "cell_type": "code",
   "execution_count": 6,
   "id": "b3e3fbbc-14d8-423c-907a-4d3b1b9088a6",
   "metadata": {},
   "outputs": [],
   "source": [
    "df_all = pd.concat([df, df_abalone], ignore_index=True)"
   ]
  },
  {
   "cell_type": "markdown",
   "id": "eed19ad1-1e95-4f39-b851-f347c1326fa0",
   "metadata": {},
   "source": [
    "## Поиск гиперпараметров"
   ]
  },
  {
   "cell_type": "code",
   "execution_count": 7,
   "id": "e184c3fa-ffd3-41ee-878a-c3faaa8dd97b",
   "metadata": {},
   "outputs": [],
   "source": [
    "X = df_all.drop(columns='Rings')\n",
    "y = df_all['Rings']\n",
    "\n",
    "X_train, X_test, y_train, y_test = train_test_split(X, y, test_size=0.25, random_state=42)"
   ]
  },
  {
   "cell_type": "code",
   "execution_count": 8,
   "id": "776d2fd4-b622-457f-b2f6-b2bf9aa1f186",
   "metadata": {},
   "outputs": [],
   "source": [
    "# def objective(trial: optuna.Trial):\n",
    "#     '''\n",
    "#     Обычная сигнатура функции оптимизации для optuna.\n",
    "#     '''\n",
    "#     params = {\n",
    "#         'random_seed': 42,\n",
    "#         'cat_features': ['Sex'],\n",
    "#         'verbose': 0,\n",
    "#         'eval_metric': 'MSLE',\n",
    "#         'iterations': trial.suggest_int('iterations', 1000, 2100),\n",
    "#         'learning_rate': trial.suggest_float('learning_rate', 1e-3, 0.1, log=True),\n",
    "#         'depth': trial.suggest_int('depth', 3, 12),\n",
    "#         # 'l2_leaf_reg': trial.suggest_float('l2_leaf_reg', 1e-8, 100.0, log=True),\n",
    "#         # 'bagging_temperature': trial.suggest_float('bagging_temperature', 0.0, 10.0),\n",
    "#         # 'random_strength': trial.suggest_float(\"random_strength\", 1e-8, 10.0, log=True)\n",
    "#     }\n",
    "    \n",
    "#     model = CatBoostRegressor(**params)\n",
    "#     model.fit(X_train, y_train, eval_set=(X_test, y_test))\n",
    "#     predictions = model.predict(X_test)\n",
    "#     return mean_squared_log_error(y_test, predictions)\n",
    "    \n",
    "# study = optuna.create_study(direction='minimize')\n",
    "# study.optimize(objective, n_trials=100)"
   ]
  },
  {
   "cell_type": "code",
   "execution_count": 9,
   "id": "6430a173-bf4f-4be2-965e-9ed9c1316c03",
   "metadata": {},
   "outputs": [],
   "source": [
    "best_params = {'iterations': 1683,\n",
    "               'learning_rate': 0.08535277866932216,\n",
    "               'depth': 7,\n",
    "               'random_seed': 42,\n",
    "               'cat_features': ['Sex'],\n",
    "               'verbose': 0,\n",
    "               'eval_metric': 'MSLE'\n",
    "              }"
   ]
  },
  {
   "cell_type": "markdown",
   "id": "587e5b6e-26de-4521-b9c2-25ace90e63a3",
   "metadata": {},
   "source": [
    "## Модель\n",
    "- kaggle public Score: 0.14797"
   ]
  },
  {
   "cell_type": "code",
   "execution_count": 10,
   "id": "d911563f-931e-4c76-9ddd-54805f136133",
   "metadata": {},
   "outputs": [
    {
     "data": {
      "text/plain": [
       "0.022276684889506508"
      ]
     },
     "execution_count": 10,
     "metadata": {},
     "output_type": "execute_result"
    }
   ],
   "source": [
    "cat_model = CatBoostRegressor(**best_params)\n",
    "cat_model.fit(X_train, y_train, eval_set=(X_test, y_test))\n",
    "y_pred = cat_model.predict(X_test)\n",
    "rmsle = mean_squared_log_error(y_test, y_pred)\n",
    "pred = cat_model.predict(df_pred)\n",
    "rmsle"
   ]
  },
  {
   "cell_type": "code",
   "execution_count": 11,
   "id": "0a2c7f59-76d4-48e5-86e3-2210f0f96a30",
   "metadata": {},
   "outputs": [],
   "source": [
    "df_pred_duble = pd.read_csv('data/test.csv')\n",
    "df_pred_Id = df_pred_duble['id']\n",
    "\n",
    "output = pd.DataFrame({'id': df_pred_Id, 'Rings': pred})\n",
    "output.to_csv('data/cat_model.csv', index=False)"
   ]
  },
  {
   "cell_type": "code",
   "execution_count": null,
   "id": "786bf541-d6de-4186-9621-140972a648b5",
   "metadata": {},
   "outputs": [],
   "source": []
  }
 ],
 "metadata": {
  "kernelspec": {
   "display_name": "Python 3 (ipykernel)",
   "language": "python",
   "name": "python3"
  },
  "language_info": {
   "codemirror_mode": {
    "name": "ipython",
    "version": 3
   },
   "file_extension": ".py",
   "mimetype": "text/x-python",
   "name": "python",
   "nbconvert_exporter": "python",
   "pygments_lexer": "ipython3",
   "version": "3.10.11"
  }
 },
 "nbformat": 4,
 "nbformat_minor": 5
}
